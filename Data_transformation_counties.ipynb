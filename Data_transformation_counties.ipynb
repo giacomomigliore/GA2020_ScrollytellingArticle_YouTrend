{
 "cells": [
  {
   "cell_type": "code",
   "execution_count": 3,
   "metadata": {},
   "outputs": [],
   "source": [
    "import pandas as pd\n",
    "import win32com.client as win32\n",
    "import os\n",
    "import numpy as np"
   ]
  },
  {
   "cell_type": "code",
   "execution_count": 2,
   "metadata": {},
   "outputs": [
    {
     "ename": "NameError",
     "evalue": "name 'win32' is not defined",
     "output_type": "error",
     "traceback": [
      "\u001b[1;31m---------------------------------------------------------------------------\u001b[0m",
      "\u001b[1;31mNameError\u001b[0m                                 Traceback (most recent call last)",
      "\u001b[1;32m<ipython-input-2-c36fbf00b676>\u001b[0m in \u001b[0;36m<module>\u001b[1;34m\u001b[0m\n\u001b[0;32m      6\u001b[0m     \u001b[0mfname\u001b[0m \u001b[1;33m=\u001b[0m \u001b[0mentry\u001b[0m\u001b[1;33m\u001b[0m\u001b[1;33m\u001b[0m\u001b[0m\n\u001b[0;32m      7\u001b[0m     \u001b[1;32mif\u001b[0m \u001b[1;33m(\u001b[0m\u001b[0mfname\u001b[0m\u001b[1;33m.\u001b[0m\u001b[0mendswith\u001b[0m\u001b[1;33m(\u001b[0m\u001b[1;34m\".xls\"\u001b[0m\u001b[1;33m)\u001b[0m\u001b[1;33m)\u001b[0m\u001b[1;33m:\u001b[0m\u001b[1;33m\u001b[0m\u001b[1;33m\u001b[0m\u001b[0m\n\u001b[1;32m----> 8\u001b[1;33m         \u001b[0mexcel\u001b[0m \u001b[1;33m=\u001b[0m \u001b[0mwin32\u001b[0m\u001b[1;33m.\u001b[0m\u001b[0mgencache\u001b[0m\u001b[1;33m.\u001b[0m\u001b[0mEnsureDispatch\u001b[0m\u001b[1;33m(\u001b[0m\u001b[1;34m'Excel.Application'\u001b[0m\u001b[1;33m)\u001b[0m\u001b[1;33m\u001b[0m\u001b[1;33m\u001b[0m\u001b[0m\n\u001b[0m\u001b[0;32m      9\u001b[0m         \u001b[0mwb\u001b[0m \u001b[1;33m=\u001b[0m \u001b[0mexcel\u001b[0m\u001b[1;33m.\u001b[0m\u001b[0mWorkbooks\u001b[0m\u001b[1;33m.\u001b[0m\u001b[0mOpen\u001b[0m\u001b[1;33m(\u001b[0m\u001b[0mfname\u001b[0m\u001b[1;33m)\u001b[0m\u001b[1;33m\u001b[0m\u001b[1;33m\u001b[0m\u001b[0m\n\u001b[0;32m     10\u001b[0m         \u001b[1;31m# Add _ to make strings work\u001b[0m\u001b[1;33m\u001b[0m\u001b[1;33m\u001b[0m\u001b[1;33m\u001b[0m\u001b[0m\n",
      "\u001b[1;31mNameError\u001b[0m: name 'win32' is not defined"
     ]
    }
   ],
   "source": [
    "# As this version of .xls is not supported by pandas, convert all files to .xlsx\n",
    "directory = r'C:/###/Jupyter/'\n",
    "fnames = ['C:/###/Jupyter/Results2016ByCounty.xls', \n",
    "          'C:/###/Jupyter/Results2020ByCounty.xls']\n",
    "for entry in fnames:\n",
    "    fname = entry\n",
    "    if (fname.endswith(\".xls\")):\n",
    "        excel = win32.gencache.EnsureDispatch('Excel.Application')\n",
    "        wb = excel.Workbooks.Open(fname)\n",
    "        # Add _ to make strings work\n",
    "        wb.SaveAs(\"C:\\\\Users\\migli\\Documents\\Jupyter\\-\" + fname.split('/')[5] + \"x\", FileFormat=51)    #FileFormat = 51 is for .xlsx extension\n",
    "        wb.Close()                               #FileFormat = 56 is for .xls extension \n",
    "        excel.Application.Quit()\n",
    "        os.remove(fname)\n",
    "    else: \n",
    "        print(\"done\")\n",
    "        break\n",
    "        \n",
    "# Delete _ from filenames\n",
    "directory = r'C:/###/Jupyter/DownloadedXls/'\n",
    "for entry in os.scandir(directory):\n",
    "    fname = entry.path\n",
    "    if '-' in fname: \n",
    "        oldname = fname;\n",
    "        newname = fname.replace('-', '')\n",
    "        os.rename(oldname,newname)\n",
    "        print(fname)"
   ]
  },
  {
   "cell_type": "code",
   "execution_count": null,
   "metadata": {},
   "outputs": [],
   "source": []
  },
  {
   "cell_type": "code",
   "execution_count": 4,
   "metadata": {},
   "outputs": [
    {
     "name": "stdout",
     "output_type": "stream",
     "text": [
      "158\n"
     ]
    }
   ],
   "source": [
    "fnames = ['C:/###/Jupyter/Results2016ByCounty.xlsx', \n",
    "          'C:/###/Jupyter/Results2020ByCounty.xlsx',\n",
    "          'C:/###/Jupyter/GA_FIPS.xlsx']\n",
    "\n",
    "fname = fnames[1]\n",
    "# year = fname.split(\"/\")[5].title()\n",
    "# year = year.replace('ByCounty.xlsx', '').replace(\"Results\", \" \")  \n",
    "\n",
    "# Prepare County IDs to join at the end\n",
    "FIPS_file = fnames[2]\n",
    "dfFIPS = pd.read_excel(FIPS_file, header=None)\n",
    "dfFIPS.columns = [\"GEOID\", \"County_name\", \"State\"]\n",
    "\n",
    "# Read Presidential elections table\n",
    "dfP = pd.read_excel(fname, \"2\", header=None, skiprows=[0])\n",
    "# create column lables https://stackoverflow.com/questions/27420263/pandas-parse-merged-header-columns-from-excel\n",
    "# Fill blank cells with nearby values\n",
    "dfP.iloc[0] = dfP.iloc[0].fillna(method='ffill')\n",
    "dfP.iloc[0] = dfP.iloc[0].fillna('')\n",
    "dfP.iloc[0][16] = ''\n",
    "# Set headers to joint values of forst two rows: candidate name + numerical value name\n",
    "dfP.columns = dfP.iloc[0:2].apply(lambda x: '.'.join([y for y in x if y]), axis=0)\n",
    "# Delete first two rows\n",
    "dfP = dfP.iloc[2:]\n",
    "# Delete total row at the end and all columns but total votes\n",
    "dfP.drop(dfP.tail(1).index,inplace=True)\n",
    "dfP.drop(dfP.columns[[1,2,3,4,6,7,8,9,11,12,13,14]], axis =1, inplace = True)\n",
    "# # Rename columns\n",
    "dfP.columns = [\"County\", \"Donald_J_Trump\", \"Joe_R_Biden\", \"Jo_Jorgensen\", \"Total_Pres\"]\n",
    "# Create % values\n",
    "dfP[\"Don_Per\"] = (dfP[\"Donald_J_Trump\"] / dfP[\"Total_Pres\"] * 10000).astype(int) / 100\n",
    "dfP[\"Joe_Per\"] = (dfP[\"Joe_R_Biden\"] / dfP[\"Total_Pres\"] * 10000).astype(int) / 100  \n",
    "dfP[\"Joe_MOV\"] = dfP[\"Joe_Per\"] - dfP[\"Don_Per\"] + 100\n",
    "dfP = dfP[[\"County\", \"Donald_J_Trump\", \"Joe_R_Biden\", \"Jo_Jorgensen\", \"Don_Per\", \"Joe_Per\", \"Joe_MOV\", \"Total_Pres\"]]\n",
    "\n",
    "# Read senate 1 race\n",
    "dfS1 = pd.read_excel(fname, \"3\", header=None, skiprows=[0])\n",
    "dfS1.iloc[0] = dfS1.iloc[0].fillna(method='ffill')\n",
    "dfS1.iloc[0] = dfS1.iloc[0].fillna('')\n",
    "dfS1.iloc[0][16] = ''\n",
    "dfS1.columns = dfS1.iloc[0:2].apply(lambda x: '.'.join([y for y in x if y]), axis=0)\n",
    "dfS1 = dfS1.iloc[2:]\n",
    "# Delete total row at the end\n",
    "dfS1.drop(dfS1.tail(1).index,inplace=True)\n",
    "dfS1.drop(dfS1.columns[[0,1,2,3,4,6,7,8,9,11,12,13,14,15]], axis =1, inplace = True)\n",
    "dfS1.columns = [\"David_A_Purdue\", \"Jon_Ossoff\", \"Total_Sen1\"]\n",
    "dfS1[\"Pur_Per\"] = (dfS1[\"David_A_Purdue\"] / dfS1[\"Total_Sen1\"] * 10000).astype(int) / 100\n",
    "dfS1[\"Oss_Per\"] = (dfS1[\"Jon_Ossoff\"] / dfS1[\"Total_Sen1\"] * 10000).astype(int) / 100\n",
    "dfS1[\"Oss_MOV\"] = dfS1[\"Oss_Per\"] - dfS1[\"Pur_Per\"] + 100\n",
    "dfS1 = dfS1[[\"David_A_Purdue\", \"Jon_Ossoff\", \"Pur_Per\", \"Oss_Per\", \"Oss_MOV\", \"Total_Sen1\"]]\n",
    "\n",
    "\n",
    "# Read senate exceptional race elections table\n",
    "dfS2 = pd.read_excel(fname, \"4\", header=None, skiprows=[0])\n",
    "dfS2.iloc[0] = dfS2.iloc[0].fillna(method='ffill')\n",
    "dfS2.iloc[0] = dfS2.iloc[0].fillna('')\n",
    "dfS2.iloc[0][101] = ''\n",
    "dfS2.columns = dfS2.iloc[0:2].apply(lambda x: '.'.join([y for y in x if y]), axis=0)\n",
    "dfS2 = dfS2.iloc[2:]\n",
    "# Delete total row at the end\n",
    "dfS2.drop(dfS2.tail(1).index,inplace=True)\n",
    "# Drop all columns not referring to total votes\n",
    "col_names = list(dfS2)\n",
    "dfS2.drop(dfS2.columns.difference(['Total'] + [x for x in col_names if '.Total' in x]), axis =1, inplace = True)\n",
    "# Summ all total votes of candidates other than the two competing in the Jan 5 runoff\n",
    "col_names = list(dfS2)\n",
    "col_not_to_sum = ['Loeffler', 'Warnock']\n",
    "dfS2[\"Others\"] = dfS2[[x for x in col_names if all(y not in x for y in col_not_to_sum)]].sum(axis=1) - dfS2[\"Total\"]\n",
    "# Drop columns of candidates other than the two competing in the Jan 5 runoff\n",
    "dfS2.drop(dfS2.columns.difference(['Total', \n",
    "                                   'Kelly Loeffler (I) (Rep).Total Votes', \n",
    "                                   'Raphael Warnock (Dem).Total Votes',\n",
    "                                    'Others']), axis =1, inplace = True)\n",
    "dfS2.columns = [\"Kelly_Loeffler\", \"Raphael_Warnock\", \"Total_Sen2\", \"Others\"]\n",
    "dfS2[\"Loe_Per\"] = (dfS2[\"Kelly_Loeffler\"] / dfS2[\"Total_Sen2\"] * 10000).astype(int) / 100\n",
    "dfS2[\"War_Per\"] = (dfS2[\"Raphael_Warnock\"] / dfS2[\"Total_Sen2\"] * 10000).astype(int) / 100\n",
    "dfS2[\"War_MOV\"] = dfS2[\"War_Per\"] - dfS2[\"Loe_Per\"] + 100\n",
    "dfS2 = dfS2[[\"Kelly_Loeffler\", \"Raphael_Warnock\", \"Others\", \"Loe_Per\", \"War_Per\", \"War_MOV\", \"Total_Sen2\"]]\n",
    "\n",
    "# merge with FIPS\n",
    "dfT=pd.concat([dfP, dfS1, dfS2], axis=1)\n",
    "dfT = dfFIPS.merge(dfT, left_on='County_name', right_on='County')\n",
    "dfT.drop(dfT.columns[[1,2]], axis =1, inplace = True)\n",
    "\n",
    "# dfT.head()\n",
    "dfT.to_csv(\"C:/###/Jupyter/GA_by_county_2020.csv\",index=False)\n",
    "print(str(len(dfT.County.unique())))"
   ]
  },
  {
   "cell_type": "code",
   "execution_count": null,
   "metadata": {},
   "outputs": [],
   "source": []
  },
  {
   "cell_type": "code",
   "execution_count": null,
   "metadata": {},
   "outputs": [],
   "source": []
  }
 ],
 "metadata": {
  "kernelspec": {
   "display_name": "Python 3",
   "language": "python",
   "name": "python3"
  },
  "language_info": {
   "codemirror_mode": {
    "name": "ipython",
    "version": 3
   },
   "file_extension": ".py",
   "mimetype": "text/x-python",
   "name": "python",
   "nbconvert_exporter": "python",
   "pygments_lexer": "ipython3",
   "version": "3.8.3"
  }
 },
 "nbformat": 4,
 "nbformat_minor": 4
}
