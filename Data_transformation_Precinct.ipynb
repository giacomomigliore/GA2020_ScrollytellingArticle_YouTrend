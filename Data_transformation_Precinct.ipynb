{
 "cells": [
  {
   "cell_type": "code",
   "execution_count": 1,
   "metadata": {},
   "outputs": [],
   "source": [
    "\"\"\"\n",
    "Clean the datasets of precinct level results from the Georgia Secretary\n",
    "of State website. Create a .csv file that will be used to create the maps.\n",
    "\n",
    "Requirements: \n",
    "- Download the 2020 election results with the file Download_Data_Precinct\n",
    "- Set the correct full paths in the code below\n",
    "\"\"\"\n",
    "\n",
    "import pandas as pd\n",
    "import win32com.client as win32\n",
    "import os\n",
    "import numpy as np"
   ]
  },
  {
   "cell_type": "code",
   "execution_count": 2,
   "metadata": {},
   "outputs": [
    {
     "name": "stdout",
     "output_type": "stream",
     "text": [
      "done\n"
     ]
    }
   ],
   "source": [
    "# As this version of .xls is not supported by pandas, convert all files to .xlsx\n",
    "directory = r'C:###Jupyter/DownloadedXls/'\n",
    "for entry in os.scandir(directory):\n",
    "    fname = entry.path\n",
    "    if (fname.endswith(\".xls\")):\n",
    "        excel = win32.gencache.EnsureDispatch('Excel.Application')\n",
    "        wb = excel.Workbooks.Open(fname)   \n",
    "        #FileFormat = 51 is for .xlsx extension\n",
    "        #FileFormat = 56 is for .xls extension \n",
    "        # Add - to make strings work. It is remove in the next snipper of code\n",
    "        # USE '\\' INSTEAD OF '/' IN PATH \n",
    "        # https://stackoverflow.com/questions/3730428/why-cant-i-save-as-an-excel-file-from-my-python-code/3730512#3730512\n",
    "        wb.SaveAs(\"C:###Jupyter\\DownloadedXls\\_\" + fname.split('/')[6] + \"x\", FileFormat=51) \n",
    "        wb.Close()\n",
    "        excel.Application.Quit()\n",
    "        os.remove(entry.path)\n",
    "    else: \n",
    "        print(\"done\")\n",
    "        break\n",
    "        \n",
    "# Delete _ from filenames\n",
    "directory = r'C:###Jupyter/DownloadedXls/'\n",
    "for entry in os.scandir(directory):\n",
    "    fname = entry.path\n",
    "    print(fname)"
   ]
  },
  {
   "cell_type": "code",
   "execution_count": 3,
   "metadata": {},
   "outputs": [
    {
     "name": "stdout",
     "output_type": "stream",
     "text": [
      "159\n"
     ]
    }
   ],
   "source": [
    "# Read, clean and join tables\n",
    "\n",
    "# dfTot is the dataframe to save in the final .csv file\n",
    "dfTot = pd.DataFrame(columns = [])\n",
    "directory = r'C:###Jupyter/DownloadedXls/'\n",
    "\n",
    "# Repeat for each file. There is one file per county\n",
    "for entry in os.scandir(directory):\n",
    "    fname = entry.path\n",
    "    county = fname.split(\"/\")[6].title()\n",
    "    county = county.replace('.Xlsx', '').replace(\"-\", \" \")       \n",
    "\n",
    "    # Read Presidential elections table\n",
    "    dfP = pd.read_excel(fname, \"2\", header=None, skiprows=[0])\n",
    "    # create column lables https://stackoverflow.com/questions/27420263/pandas-parse-merged-header-columns-from-excel\n",
    "    # Fill blank cells with nearby values\n",
    "    dfP.iloc[0] = dfP.iloc[0].fillna(method='ffill')\n",
    "    dfP.iloc[0] = dfP.iloc[0].fillna('')\n",
    "    dfP.iloc[0][17] = ''\n",
    "    # Set headers to joint values of forst two rows: candidate name + numerical value name\n",
    "    dfP.columns = dfP.iloc[0:2].apply(lambda x: '.'.join([y for y in x if y]), axis=0)\n",
    "    # Delete first two rows\n",
    "    dfP = dfP.iloc[2:]\n",
    "    # Delete total row at the end and all columns but total votes\n",
    "    dfP.drop(dfP.tail(1).index,inplace=True)\n",
    "    dfP.drop(dfP.columns[[1,2,3,4,5,7,8,9,10,12,13,14,15]], axis =1, inplace = True)\n",
    "    # Rename columns\n",
    "    dfP.columns = [\"Precinct\", \"Donald_J_Trump\", \"Joe_R_Biden\", \"Jo_Jorgensen\", \"Total_Pres\"]\n",
    "    dfP[\"County\"] = county\n",
    "    dfP[\"UniqueID\"] = dfP[\"County\"] + \",\" + dfP[\"Precinct\"]\n",
    "    # Create % values\n",
    "    dfP[\"Don_Per\"] = (dfP[\"Donald_J_Trump\"] / dfP[\"Total_Pres\"] * 10000).astype(int) / 100\n",
    "    dfP[\"Joe_Per\"] = (dfP[\"Joe_R_Biden\"] / dfP[\"Total_Pres\"] * 10000).astype(int) / 100  \n",
    "    dfP[\"Joe_MOV\"] = dfP[\"Joe_Per\"] - dfP[\"Don_Per\"] + 100\n",
    "    dfP = dfP[[\"UniqueID\", \"County\", \"Precinct\", \"Donald_J_Trump\", \"Joe_R_Biden\", \"Jo_Jorgensen\", \"Don_Per\", \"Joe_Per\", \"Joe_MOV\", \"Total_Pres\"]]\n",
    "\n",
    "    # Read senate 1 race\n",
    "    dfS1 = pd.read_excel(fname, \"3\", header=None, skiprows=[0])\n",
    "    dfS1.iloc[0] = dfS1.iloc[0].fillna(method='ffill')\n",
    "    dfS1.iloc[0] = dfS1.iloc[0].fillna('')\n",
    "    dfS1.iloc[0][17] = ''\n",
    "    dfS1.columns = dfS1.iloc[0:2].apply(lambda x: '.'.join([y for y in x if y]), axis=0)\n",
    "    dfS1 = dfS1.iloc[2:]\n",
    "    dfS1.drop(dfS1.tail(1).index,inplace=True)\n",
    "    dfS1.drop(dfS1.columns[[0,1,2,3,4,5,7,8,9,10,12,13,14,15,16]], axis =1, inplace = True)\n",
    "    dfS1.columns = [\"David_A_Purdue\", \"Jon_Ossoff\", \"Total_Sen1\"]\n",
    "    dfS1[\"Pur_Per\"] = (dfS1[\"David_A_Purdue\"] / dfS1[\"Total_Sen1\"] * 10000).astype(int) / 100\n",
    "    dfS1[\"Oss_Per\"] = (dfS1[\"Jon_Ossoff\"] / dfS1[\"Total_Sen1\"] * 10000).astype(int) / 100\n",
    "    dfS1[\"Oss_MOV\"] = dfS1[\"Oss_Per\"] - dfS1[\"Pur_Per\"] + 100\n",
    "    dfS1 = dfS1[[\"David_A_Purdue\", \"Jon_Ossoff\", \"Pur_Per\", \"Oss_Per\", \"Oss_MOV\", \"Total_Sen1\"]]\n",
    "\n",
    "    # Read senate exceptional race elections table\n",
    "    dfS2 = pd.read_excel(fname, \"4\", header=None, skiprows=[0])\n",
    "    dfS2.iloc[0] = dfS2.iloc[0].fillna(method='ffill')\n",
    "    dfS2.iloc[0] = dfS2.iloc[0].fillna('')\n",
    "    dfS2.iloc[0][102] = ''\n",
    "    dfS2.columns = dfS2.iloc[0:2].apply(lambda x: '.'.join([y for y in x if y]), axis=0)\n",
    "    dfS2 = dfS2.iloc[2:]\n",
    "    dfS2.drop(dfS2.tail(1).index,inplace=True)\n",
    "    # Drop all columns not referring to total votes\n",
    "    col_names = list(dfS2)\n",
    "    dfS2.drop(dfS2.columns.difference(['Total'] + [x for x in col_names if '.Total' in x]), axis =1, inplace = True)\n",
    "    # Summ all total votes of candidates other than the two competing in the Jan 5 runoff\n",
    "    col_names = list(dfS2)\n",
    "    col_not_to_sum = ['Loeffler', 'Warnock']\n",
    "    dfS2[\"Others\"] = dfS2[[x for x in col_names if all(y not in x for y in col_not_to_sum)]].sum(axis=1) - dfS2[\"Total\"]\n",
    "    # Drop columns of candidates other than the two competing in the Jan 5 runoff\n",
    "    dfS2.drop(dfS2.columns.difference(['Total', \n",
    "                                       'Kelly Loeffler (I) (Rep).Total Votes', \n",
    "                                       'Raphael Warnock (Dem).Total Votes',\n",
    "                                        'Others']), axis =1, inplace = True)\n",
    "    dfS2.columns = [\"Kelly_Loeffler\", \"Raphael_Warnock\", \"Total_Sen2\", \"Others\"]\n",
    "    dfS2[\"Loe_Per\"] = (dfS2[\"Kelly_Loeffler\"] / dfS2[\"Total_Sen2\"] * 10000).astype(int) / 100\n",
    "    dfS2[\"War_Per\"] = (dfS2[\"Raphael_Warnock\"] / dfS2[\"Total_Sen2\"] * 10000).astype(int) / 100\n",
    "    dfS2[\"War_MOV\"] = dfS2[\"War_Per\"] - dfS2[\"Loe_Per\"] + 100\n",
    "    dfS2 = dfS2[[\"Kelly_Loeffler\", \"Raphael_Warnock\", \"Loe_Per\", \"War_Per\", \"War_MOV\", \"Others\", \"Total_Sen2\"]]\n",
    "    \n",
    "    \n",
    "    # Concat the datafram of all races of a column\n",
    "    dfT=pd.concat([dfP, dfS1, dfS2], axis=1)    \n",
    "    # Concat county dataframe to final dataframe\n",
    "    dfTot = pd.concat([dfTot, dfT])\n",
    "    \n",
    "    \n",
    "\n",
    "    \n",
    "dfTot.head()\n",
    "dfTot.to_csv(\"C:###Jupyter/GA_by_precinct.csv\",index=False)\n",
    "print(str(len(dfTot.County.unique())))"
   ]
  },
  {
   "cell_type": "code",
   "execution_count": null,
   "metadata": {},
   "outputs": [],
   "source": []
  },
  {
   "cell_type": "code",
   "execution_count": null,
   "metadata": {},
   "outputs": [],
   "source": []
  },
  {
   "cell_type": "code",
   "execution_count": null,
   "metadata": {
    "scrolled": false
   },
   "outputs": [],
   "source": []
  },
  {
   "cell_type": "code",
   "execution_count": null,
   "metadata": {},
   "outputs": [],
   "source": []
  },
  {
   "cell_type": "code",
   "execution_count": null,
   "metadata": {},
   "outputs": [],
   "source": []
  }
 ],
 "metadata": {
  "kernelspec": {
   "display_name": "Python 3",
   "language": "python",
   "name": "python3"
  },
  "language_info": {
   "codemirror_mode": {
    "name": "ipython",
    "version": 3
   },
   "file_extension": ".py",
   "mimetype": "text/x-python",
   "name": "python",
   "nbconvert_exporter": "python",
   "pygments_lexer": "ipython3",
   "version": "3.8.3"
  }
 },
 "nbformat": 4,
 "nbformat_minor": 4
}
