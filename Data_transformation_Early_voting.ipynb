{
 "cells": [
  {
   "cell_type": "code",
   "execution_count": 1,
   "metadata": {},
   "outputs": [],
   "source": [
    "\"\"\"\n",
    "Get the dataset with all votes information from the Georgia Secretary of State website \n",
    "and returns a .csv file with two columns: one referring to the date of vote and the \n",
    "other to the total number of votes casted on that date. \n",
    "\n",
    "Requirements: \n",
    "- Download and extract the file relative to the election of interest\n",
    "from https://elections.sos.ga.gov/Elections/voterabsenteefile.do\n",
    "- Set the correct full paths in the code below\n",
    "\"\"\"\n",
    "\n",
    "import pandas as pd\n",
    "import win32com.client as win32\n",
    "import os\n",
    "import numpy as np"
   ]
  },
  {
   "cell_type": "code",
   "execution_count": 32,
   "metadata": {},
   "outputs": [
    {
     "name": "stderr",
     "output_type": "stream",
     "text": [
      "C:\\Users\\migli\\anaconda3\\lib\\site-packages\\IPython\\core\\interactiveshell.py:3071: DtypeWarning: Columns (6,12,28,29) have mixed types.Specify dtype option on import or set low_memory=False.\n",
      "  has_raised = await self.run_ast_nodes(code_ast.body, cell_name,\n"
     ]
    },
    {
     "data": {
      "text/html": [
       "<div>\n",
       "<style scoped>\n",
       "    .dataframe tbody tr th:only-of-type {\n",
       "        vertical-align: middle;\n",
       "    }\n",
       "\n",
       "    .dataframe tbody tr th {\n",
       "        vertical-align: top;\n",
       "    }\n",
       "\n",
       "    .dataframe thead th {\n",
       "        text-align: right;\n",
       "    }\n",
       "</style>\n",
       "<table border=\"1\" class=\"dataframe\">\n",
       "  <thead>\n",
       "    <tr style=\"text-align: right;\">\n",
       "      <th></th>\n",
       "      <th>Ballot Return Date</th>\n",
       "    </tr>\n",
       "  </thead>\n",
       "  <tbody>\n",
       "    <tr>\n",
       "      <th>0</th>\n",
       "      <td>10/15/2020</td>\n",
       "    </tr>\n",
       "    <tr>\n",
       "      <th>1</th>\n",
       "      <td>10/13/2020</td>\n",
       "    </tr>\n",
       "    <tr>\n",
       "      <th>2</th>\n",
       "      <td>10/13/2020</td>\n",
       "    </tr>\n",
       "    <tr>\n",
       "      <th>3</th>\n",
       "      <td>10/30/2020</td>\n",
       "    </tr>\n",
       "    <tr>\n",
       "      <th>4</th>\n",
       "      <td>10/29/2020</td>\n",
       "    </tr>\n",
       "  </tbody>\n",
       "</table>\n",
       "</div>"
      ],
      "text/plain": [
       "  Ballot Return Date\n",
       "0         10/15/2020\n",
       "1         10/13/2020\n",
       "2         10/13/2020\n",
       "3         10/30/2020\n",
       "4         10/29/2020"
      ]
     },
     "execution_count": 32,
     "metadata": {},
     "output_type": "execute_result"
    }
   ],
   "source": [
    "# Define the path\n",
    "fname = r'C:###EarlyVoting2020/STATEWIDE.csv'\n",
    "# Use encoding otherwise some character in the file raises an error\n",
    "df = pd.read_csv(fname, encoding = \"ISO-8859-1\")\n",
    "# Delete all unnecessary columns\n",
    "df.drop(df.columns[list(range(24, 39))], axis =1, inplace = True)\n",
    "df.drop(df.columns[list(range(0, 23))], axis =1, inplace = True)\n",
    "# Create a dataframe called 'sunto' with the number of votes casted and the respective date\n",
    "sunto = df[\"Ballot Return Date\"].value_counts().sort_index()\n",
    "sunto.to_csv(\"C:/Users/migli/Documents/Jupyter/EarlyVoting2020/sunto2020.csv\")\n",
    "print(sunto)"
   ]
  },
  {
   "cell_type": "code",
   "execution_count": 36,
   "metadata": {},
   "outputs": [
    {
     "name": "stderr",
     "output_type": "stream",
     "text": [
      "C:\\Users\\migli\\anaconda3\\lib\\site-packages\\IPython\\core\\interactiveshell.py:3071: DtypeWarning: Columns (6,12,28,29) have mixed types.Specify dtype option on import or set low_memory=False.\n",
      "  has_raised = await self.run_ast_nodes(code_ast.body, cell_name,\n"
     ]
    },
    {
     "name": "stdout",
     "output_type": "stream",
     "text": [
      "01/01/1900         2\n",
      "01/10/8933        20\n",
      "02/07/2020         2\n",
      "03/04/2020         1\n",
      "04/08/2020         2\n",
      "               ...  \n",
      "12/27/2020     19900\n",
      "12/28/2020    213456\n",
      "12/29/0202        20\n",
      "12/29/2020    214080\n",
      "12/31/2020         6\n",
      "Name: Ballot Return Date, Length: 106, dtype: int64\n"
     ]
    }
   ],
   "source": [
    "fname = r'C:/Users/migli/Documents/Jupyter/EarlyVoting2021_30122020/STATEWIDE.csv'\n",
    "df = pd.read_csv(fname, encoding = \"ISO-8859-1\")\n",
    "df.drop(df.columns[list(range(24, 39))], axis =1, inplace = True)\n",
    "df.drop(df.columns[list(range(0, 23))], axis =1, inplace = True)\n",
    "sunto = df[\"Ballot Return Date\"].value_counts().sort_index()\n",
    "sunto.to_csv(\"C:/Users/migli/Documents/Jupyter/EarlyVoting2021_30122020/sunto2021.csv\")\n",
    "print(sunto)"
   ]
  },
  {
   "cell_type": "code",
   "execution_count": null,
   "metadata": {},
   "outputs": [],
   "source": []
  },
  {
   "cell_type": "code",
   "execution_count": null,
   "metadata": {},
   "outputs": [],
   "source": []
  }
 ],
 "metadata": {
  "kernelspec": {
   "display_name": "Python 3",
   "language": "python",
   "name": "python3"
  },
  "language_info": {
   "codemirror_mode": {
    "name": "ipython",
    "version": 3
   },
   "file_extension": ".py",
   "mimetype": "text/x-python",
   "name": "python",
   "nbconvert_exporter": "python",
   "pygments_lexer": "ipython3",
   "version": "3.8.3"
  }
 },
 "nbformat": 4,
 "nbformat_minor": 4
}
